{
 "cells": [
  {
   "cell_type": "code",
   "execution_count": null,
   "metadata": {
    "scrolled": false
   },
   "outputs": [],
   "source": [
    "# Sets up plotting\n",
    "%matplotlib notebook"
   ]
  },
  {
   "cell_type": "markdown",
   "metadata": {},
   "source": [
    "## Numerical Approximation Methods\n",
    "---\n",
    "### Euler's Method\n",
    "\n",
    "Euler's method is an algorithm for approximating solutions to first-order IVPs\n",
    "\n",
    "$$\n",
    "\\frac{dy}{dt} = f(t,y) \\quad y(t_0) = y_0.\n",
    "$$\n",
    "\n",
    "The key idea of Euler's method and all numerical techniques is\n",
    "**discretization**. If a variable can take on any value between two\n",
    "specified values, it is called a **continuous** variable;\n",
    "otherwise, it is called a **discrete** variable.\n",
    "\n",
    "When the independent variable is time, $t$, we **discretize** it by\n",
    "imagining it to correspond with the ticks of a clock, just like how\n",
    "the second hand on a clock moves jerkily as opposed to smoothly from\n",
    "one second to the next.\n",
    "\n",
    "Our discrete ticks are determined by a **start time**, $t_0$, and a\n",
    "tick size, or **step size** $h = \\Delta t$, for example $t_0,\n",
    "\\underbrace{t_0+h}_{t_1}, \\underbrace{t_0+2h}_{t_2},\n",
    "\\underbrace{t_0+3h}_{t_3}, \\ldots$\n",
    "\n",
    "\n",
    "The next step is to pick a starting point or **initial condition**:\n",
    "$(t_0, y_0)$, then we use $f(t,y)$ to generate a list of coordinate\n",
    "pairs which can be plotted, i.e. $(t_0, y_0), (t_1,y_1), (t_2,y_2),\n",
    "(t_3,y_3), \\ldots$\n",
    "\n",
    "\n",
    "The above list of pairs is generated via the following **recursive** algorithm.\n",
    "\n",
    "$$\n",
    "\\begin{align}\n",
    "  t_{i+1} &= t_i + h \\\\\n",
    "  y_{i+1} &= y_i + \\underbrace{h \\cdot f(t_i, y_i)}_{\\Delta y}\n",
    "\\end{align}\n",
    "$$\n",
    "\n",
    "_Note:_ You will need to define a Python function, `f(t,y)`, before you can call `euler`. This `f(t,y)` function is the right hand side of the differential equation $y' = f(t,y)$."
   ]
  },
  {
   "cell_type": "code",
   "execution_count": null,
   "metadata": {
    "scrolled": false
   },
   "outputs": [],
   "source": [
    "def euler(t0, y0, h, n):\n",
    "\n",
    "    t = [0.0]*(n+1) # n+1 t values\n",
    "    y = [0.0]*(n+1) # n+1 y values\n",
    "\n",
    "    t[0] = t0\n",
    "    y[0] = y0\n",
    "\n",
    "    # main loop which fills both lists\n",
    "    for i in range(n):\n",
    "        t[i+1] = t[i] + h\n",
    "        y[i+1] = y[i] + h*f(t[i],y[i])\n",
    "        \n",
    "    return t,y"
   ]
  },
  {
   "cell_type": "code",
   "execution_count": null,
   "metadata": {
    "scrolled": false
   },
   "outputs": [],
   "source": [
    "def f(t,y):\n",
    "    return y"
   ]
  },
  {
   "cell_type": "code",
   "execution_count": null,
   "metadata": {
    "scrolled": false
   },
   "outputs": [],
   "source": [
    "import matplotlib.pyplot as plt\n",
    "import numpy as np\n",
    "\n",
    "T = np.linspace(0, 2, 100)\n",
    "te,ye = euler(0,1,0.5,4)\n",
    "\n",
    "plt.figure(figsize=(10, 8), dpi= 80, facecolor='w', edgecolor='k')\n",
    "plt.rcParams.update({'font.size': 16})\n",
    "plt.plot(T, np.exp(T), label='Exact', color='green')\n",
    "plt.plot(te, ye, label='Euler', color='blue',marker='.')\n",
    "plt.xlabel('t')\n",
    "plt.ylabel('y')\n",
    "plt.legend()\n",
    "#plt.savefig('Euler.pdf')\n",
    "plt.show()"
   ]
  },
  {
   "cell_type": "markdown",
   "metadata": {},
   "source": [
    "### Heun (Improved Euler)\n",
    "\n",
    "The idea of the Heun method is to compute the slope of the tangent line to the solution curve at both endpoints of a single time step, i.e. at $t_i$ and $t_i + h$, and then average these two slopes to get a better approximation of the true (exact) solution curve.\n",
    "\n",
    "The algorithm generates a pair of lists. The main loop of the algorithm is similar to Euler's method, except now we compute two slopes and average them in order to compute the new $y$ value, i.e. $y_{i+1}$. In the pseudo-code below, $k_1$ and $k_2$ are the slopes of tangent lines to the solution curve at the two  endpoints of the interval $(t_i, t_i + h)$.\n",
    "\n",
    "$$\n",
    "\\begin{align}\n",
    "  t_{i+1} &= t_i + h \\\\\n",
    "  k_1 &= f(t_i, y_i) \\\\\n",
    "  k_2 &= f(t_i + h, y_i + h \\cdot k_1) \\\\\n",
    "  y_{i+1} &= y_i + \\underbrace{h \\cdot \\tfrac{1}{2} \\cdot (k_1 + k_2)}_{\\Delta y}\n",
    "\\end{align}\n",
    "$$"
   ]
  },
  {
   "cell_type": "code",
   "execution_count": null,
   "metadata": {
    "scrolled": false
   },
   "outputs": [],
   "source": [
    "def heun(t0, y0, h, n):\n",
    "    t = [0.0]*(n+1)\n",
    "    y = [0.0]*(n+1)\n",
    "    t[0] = t0\n",
    "    y[0] = y0\n",
    "    \n",
    "    for i in range(n):\n",
    "        t[i+1] = t[i] + h\n",
    "        k1 = f(t[i], y[i])\n",
    "        k2 = f(t[i]+h, y[i]+h*k1)\n",
    "        y[i+1] = y[i] + h*0.5*(k1+k2)\n",
    "\n",
    "    return t,y"
   ]
  },
  {
   "cell_type": "code",
   "execution_count": null,
   "metadata": {
    "scrolled": false
   },
   "outputs": [],
   "source": [
    "th, yh = heun(0, 1, 0.5, 4)\n",
    "te,ye = euler(0,1,0.5,4)\n",
    "\n",
    "plt.figure(figsize=(10, 8), dpi= 80, facecolor='w', edgecolor='k')\n",
    "plt.rcParams.update({'font.size': 16})\n",
    "plt.plot(T, np.exp(T), label='Exact', color='green')\n",
    "plt.plot(te, ye, label='Euler', color='blue',marker='.')\n",
    "plt.plot(th, yh, label='Heun', color='orange',marker='.')\n",
    "plt.xlabel('t')\n",
    "plt.ylabel('y')\n",
    "plt.legend()\n",
    "#plt.savefig('Euler_Heun.pdf')\n",
    "plt.show()\n"
   ]
  },
  {
   "cell_type": "markdown",
   "metadata": {},
   "source": [
    "### Runge-Kutta\n",
    "\n",
    "The core idea of the Runge-Kutta method is to do Heun's method twice. To do this we take two steps of time duration $h/2$. Doing Heun's method twice requires us to generate four slopes, $k_1, k_2, k_3$ and $k_4$. After generating these four slopes we do a special _weighted average_ where we emphasize the contribution of the slopes at the middle of the time interval, $k_2$ and $k_3$ and de-emphasize the contribution of the slopes computed at the two edges of the interval. The weighted average is computed via: $\\tfrac{1}{6}\\cdot(k_1 + 2k_2 + 2k_3 + k_4)$.\n",
    "\n",
    "$$\n",
    "\\begin{align}\n",
    "  t_{i+1} &= t_i + h \\\\\n",
    "  k_1 &= f(t_i, y_i) \\\\\n",
    "  k_2 &= f(t_i + \\tfrac{1}{2} \\cdot h, y_i + \\tfrac{1}{2} \\cdot h \\cdot k_1) \\\\\n",
    "  k_3 &= f(t_i + \\tfrac{1}{2} \\cdot h, y_i + \\tfrac{1}{2} \\cdot h \\cdot k_2) \\\\\n",
    "  k_4 &= f(t_i + h, y_i + h \\cdot k_3) \\\\\n",
    "  y_{i+1} &= y_i + \\underbrace{h \\cdot \\tfrac{1}{6} \\cdot (k_1 + 2k_2 + 2k_3 + k_4)}_{\\Delta y}\n",
    "\\end{align}\n",
    "$$"
   ]
  },
  {
   "cell_type": "code",
   "execution_count": null,
   "metadata": {
    "scrolled": false
   },
   "outputs": [],
   "source": [
    "def runge_kutta(t0, y0, h, n):\n",
    "    t = [0.0]*(n+1)\n",
    "    y = [0.0]*(n+1)\n",
    "    t[0] = t0\n",
    "    y[0] = y0\n",
    "    \n",
    "    for i in range(n):\n",
    "        t[i+1] = t[i] + h\n",
    "        k1 = f(t[i], y[i])\n",
    "        k2 = f(t[i]+ 0.5*h, y[i] + 0.5*h*k1)\n",
    "        k3 = f(t[i]+ 0.5*h, y[i] + 0.5*h*k2)\n",
    "        k4 = f(t[i]+ h, y[i] + h*k3)\n",
    "        y[i+1] = y[i] + h*(1/6)*(k1 + 2*k2 + 2*k3 + k4)\n",
    "\n",
    "    return t,y"
   ]
  },
  {
   "cell_type": "code",
   "execution_count": null,
   "metadata": {
    "scrolled": false
   },
   "outputs": [],
   "source": [
    "tr, yr = runge_kutta(0, 1, 0.5, 4)\n",
    "\n",
    "plt.figure(figsize=(10, 8), dpi= 80, facecolor='w', edgecolor='k')\n",
    "plt.rcParams.update({'font.size': 16})\n",
    "plt.plot(T, np.exp(T), label='Exact', color='green')\n",
    "plt.plot(te, ye, label='Euler', color='blue',marker='.')\n",
    "plt.plot(th, yh, label='Heun', color='orange',marker='.')\n",
    "plt.plot(tr, yr, label='Runge-Kutta', color='red',marker='.')\n",
    "plt.legend()\n",
    "plt.xlabel('t')\n",
    "plt.ylabel('y')\n",
    "#plt.savefig('Euler_Heun_RK.pdf')\n",
    "plt.show()\n"
   ]
  },
  {
   "cell_type": "code",
   "execution_count": null,
   "metadata": {
    "scrolled": false
   },
   "outputs": [],
   "source": []
  }
 ],
 "metadata": {
  "kernelspec": {
   "display_name": "Python 3",
   "language": "python",
   "name": "python3"
  },
  "language_info": {
   "codemirror_mode": {
    "name": "ipython",
    "version": 3
   },
   "file_extension": ".py",
   "mimetype": "text/x-python",
   "name": "python",
   "nbconvert_exporter": "python",
   "pygments_lexer": "ipython3",
   "version": "3.6.5"
  }
 },
 "nbformat": 4,
 "nbformat_minor": 2
}
